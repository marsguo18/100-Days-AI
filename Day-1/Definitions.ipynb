{
 "cells": [
  {
   "cell_type": "markdown",
   "metadata": {},
   "source": [
    "# Day 1"
   ]
  },
  {
   "cell_type": "markdown",
   "metadata": {},
   "source": [
    "## 1. Relationship between AI, ML and DL\n",
    "<div>\n",
    "    <img align=left src=\"../Images/AI_ML_DL.png\" width = 30%/>\n",
    "</div>"
   ]
  },
  {
   "cell_type": "markdown",
   "metadata": {},
   "source": [
    "## 2. Artificial Intelligence definition\n",
    "**Artificial intelligence (AI)** is an area of computer science that emphasizes the creation of intelligent machines that work and react like humans."
   ]
  },
  {
   "cell_type": "markdown",
   "metadata": {},
   "source": [
    "## 3. Machine Learning definition\n",
    "**Arthur Samuel**(1959):\n",
    "> Field of study the gives computers the ability to learn without being explicitly programmed. <br>"
   ]
  },
  {
   "cell_type": "markdown",
   "metadata": {},
   "source": [
    "Imagine that your computer can learn about what sort of board positions tended to win by studying itself tens of thousands of games. And eventually learn to play chess better than human was able to.<br>"
   ]
  },
  {
   "cell_type": "markdown",
   "metadata": {},
   "source": [
    "**Tom Mitchell** (1998): "
   ]
  },
  {
   "cell_type": "markdown",
   "metadata": {},
   "source": [
    ">A computer program is said to learn from **experience E** with respect to some **task T** and some performance **measure P**, if its performance on **T** as measured by **P** improves with **experience E**.<br>"
   ]
  },
  {
   "cell_type": "markdown",
   "metadata": {},
   "source": [
    "For the chess playing example, <br> \n",
    "**E** = playing tens of thousands of games against itself.<br>\n",
    "**T** = playing chess<br>\n",
    "**P** = the probability of winning<br>\n",
    "So your computer can improve the **P** by **E**. That is Machine Learning."
   ]
  },
  {
   "cell_type": "markdown",
   "metadata": {},
   "source": [
    "In another way, we can better understand what is Machine Learning by comparing it with traditional programming."
   ]
  },
  {
   "cell_type": "markdown",
   "metadata": {},
   "source": [
    "<div>\n",
    "    <img src=\"../Images/difference_between_TP&ML.png\" width = 45%/>\n",
    "</div>"
   ]
  },
  {
   "cell_type": "markdown",
   "metadata": {},
   "source": [
    "For example, if we want our computer to tell us which is dog and which is cat from a picture. First of all, we give maybe 100 photos of dogs **(data)** to our computer and tell it those are dogs **(results)**. Same operations as above, we give our machine 100 photos of cats **(data)** and tell it they are cats **(results)**. And then, with Machine Learning, our computer can tell us is it cat or dog when we give it a picture of dog or cat.<br>\n",
    "<div>\n",
    "    <img align=left src=\"http://farm1.static.flickr.com/158/391455951_398a431fd6.jpg\" width = 45%/>\n",
    "    <img src=\"http://static.flickr.com/249/459589915_71c15ec290.jpg\" width = 45%/>\n",
    "    <p> These photoes found from <a href=\"http://www.image-net.org\">ImageNet</a>.</p>\n",
    "</div>"
   ]
  },
  {
   "cell_type": "markdown",
   "metadata": {},
   "source": [
    "## 4. Deep Learning definition"
   ]
  },
  {
   "cell_type": "markdown",
   "metadata": {},
   "source": [
    "**Deep learning** (also known as deep structured learning or hierarchical learning) is part of a broader family of **machine learning** methods based on learning data representations, as opposed to task-specific algorithms. (From [Wikipedia](\"https://en.wikipedia.org/wiki/Deep_learning\"))<br>\n",
    "**Deep learning** is a powerful set of techniques for learning in neural networks.<br>\n",
    "**Neural networks** is a beautiful biologically-inspired programming paradigm which enables a computer to learn from observational data.<br>\n",
    "If we want to learn about Deep learning deeply, we should know about the histories in the development of Neural Networks."
   ]
  },
  {
   "cell_type": "markdown",
   "metadata": {},
   "source": [
    "### Histories in the Development of Neural Networks\n",
    "![Note: I am not the creator of the above image. I have been unable to locate the original source. If this is your image please let me know so I can give you proper attribution.](../Images/NN_timeline.jpg)\n"
   ]
  },
  {
   "cell_type": "markdown",
   "metadata": {},
   "source": [
    "**Geoffrey Hinton**, viewed as the **\"Godfather of Deep Learning\"**. The dramatic image-recognition milestone of the AlexNet designed by his student Alex Krizhevsky for the Imagenet challenge 2012 helped to revolutionize the field of computer vision."
   ]
  }
 ],
 "metadata": {
  "kernelspec": {
   "display_name": "Python 3",
   "language": "python",
   "name": "python3"
  },
  "language_info": {
   "codemirror_mode": {
    "name": "ipython",
    "version": 3
   },
   "file_extension": ".py",
   "mimetype": "text/x-python",
   "name": "python",
   "nbconvert_exporter": "python",
   "pygments_lexer": "ipython3",
   "version": "3.6.5"
  }
 },
 "nbformat": 4,
 "nbformat_minor": 2
}
