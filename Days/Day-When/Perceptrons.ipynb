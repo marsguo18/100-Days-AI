{
 "cells": [
  {
   "cell_type": "markdown",
   "metadata": {},
   "source": [
    "# What is a neural network?\n",
    "For better understanding neural network, let's get started from perceptrons."
   ]
  },
  {
   "cell_type": "markdown",
   "metadata": {},
   "source": [
    "# Perceptrons\n",
    "Perceptrons is a type of arificial neuron. It developed in 1957 by the scientist **Frank Rosenblatt**, who inspired by earlier work of **Electronic Brain** by **S. McCulloch and W. Pitts**."
   ]
  },
  {
   "cell_type": "markdown",
   "metadata": {},
   "source": [
    "![Note: I am not the creator of the above image. I have been unable to locate the original source. If this is your image please let me know so I can give you proper attribution.](../../Images/perceptrons_timeline.jpg)"
   ]
  },
  {
   "cell_type": "markdown",
   "metadata": {},
   "source": [
    "## So how do perceptrons work? \n",
    "A perceptron takes several binary inputs, $ x_1,x_2,…$, and produces a single binary output:"
   ]
  },
  {
   "cell_type": "markdown",
   "metadata": {},
   "source": [
    "![simple-model-of-p](../../Images/perceptrons-simple-model.png)"
   ]
  },
  {
   "cell_type": "markdown",
   "metadata": {},
   "source": [
    "- $x_1, x_2, x_3$: binary inputs\n",
    "<br>In general it could have more or fewer inputs.\n",
    "- $w_1, w_2, w_3$: weights\n",
    "<br>Weights are real numbers expressing the **importance** of the respective inputs to output.\n",
    "- **threshold**: A real number (parameter of the neuron)\n",
    "\n",
    "Let's put it in more precise algebraic terms:"
   ]
  },
  {
   "cell_type": "markdown",
   "metadata": {},
   "source": [
    "$ output =\\begin{cases} 0\\ \\ if\\ \\ \\sum _jw _jx_j \\leq threshold\\\\ 1\\ \\ if\\ \\ \\sum _jw _jx_j>   threshold\\end{cases} $"
   ]
  },
  {
   "cell_type": "markdown",
   "metadata": {},
   "source": [
    "That's all there is to how a perceptron works!"
   ]
  },
  {
   "cell_type": "markdown",
   "metadata": {},
   "source": [
    "## Example By Hand\n",
    "Suppose there is a new Chinese restaurant opening today. And you want to go and have a taste. However, you spent a lot in your new TV recently. At the same time, you want someone to accompany you. So the first thing you are going to think about is your wallet, then whether the new restaurant has discount today. And finally, is there anyone want to accompany with me. Sort by the **importance of the matter**, we can set $weights$ for our **inputs**.<br>\n",
    "\n",
    "- $x_1$ = Money\n",
    "- $x_2$ = Company\n",
    "- $x_3$ = Discount\n",
    "- $w_1$ = 0.8\n",
    "- $w_2$ = 0.5\n",
    "- $w_3$ = 0.6\n",
    "- threshold = 1.2\n",
    "<br>\n",
    "Threshold is a measure of how easy it is to get the perceptrons to output a \"1\". In this example, it is a measure of how easy it is to go to the new-open Chinese restaurant. If you really want to go, you will set a low threshold to be easy accomplished."
   ]
  },
  {
   "cell_type": "markdown",
   "metadata": {},
   "source": [
    "<div>\n",
    "    <img align=left src=\"../../Images/perceptrons-example.png\"/>\n",
    "</div>"
   ]
  },
  {
   "cell_type": "markdown",
   "metadata": {},
   "source": [
    "### Let's put them in algebraic terms:<br>\n",
    "(let replace output as $y$, threshold as $\\theta$)<br>"
   ]
  },
  {
   "cell_type": "markdown",
   "metadata": {},
   "source": [
    "$ y =\\begin{cases} 0\\ \\ if\\ \\ w_1x_1+w_2x_2+w_3x_3 \\leq \\theta\\\\ 1\\ \\ if\\ \\ w_1x_1+w_2x_2+w_3x_3>   \\theta\\end{cases} $"
   ]
  },
  {
   "cell_type": "markdown",
   "metadata": {},
   "source": [
    "$ y =\\begin{cases} 0\\ \\ if\\ \\ 0.8*money+0.5*company+0.6*discount \\leq 1.2\\\\ 1\\ \\ if\\ \\ 0.8*money+0.5*company+0.6*discount>   1.2\\end{cases} $"
   ]
  },
  {
   "cell_type": "markdown",
   "metadata": {},
   "source": [
    "Let's implement this simple example in Python"
   ]
  },
  {
   "cell_type": "code",
   "execution_count": 1,
   "metadata": {},
   "outputs": [],
   "source": [
    "def Perceptrons(x1,x2,x3):\n",
    "    w1,w2,w3,theta = 0.8,0.5,0.6,1.2\n",
    "    y = w1*x1+w2*x2+w3*x3\n",
    "    if y <= theta:\n",
    "        print(\"Oh god, I can't go to the new Chinese restaurant.\")\n",
    "        return 0\n",
    "    elif y > theta:\n",
    "        print(\"Oh yay, I can go to the new Chinese restaurant.\")\n",
    "        return 1"
   ]
  },
  {
   "cell_type": "markdown",
   "metadata": {},
   "source": [
    "If we have money, but there is no discount and others' company:\n",
    "- $x_1$ = 1\n",
    "- $x_2$ = 0\n",
    "- $x_3$ = 0\n",
    "\n",
    "Do you still remember that both output and input are binary? That is the reason why inputs are 1 or 0."
   ]
  },
  {
   "cell_type": "code",
   "execution_count": 2,
   "metadata": {},
   "outputs": [
    {
     "name": "stdout",
     "output_type": "stream",
     "text": [
      "Oh god, I can't go to the new Chinese restaurant.\n"
     ]
    },
    {
     "data": {
      "text/plain": [
       "0"
      ]
     },
     "execution_count": 2,
     "metadata": {},
     "output_type": "execute_result"
    }
   ],
   "source": [
    "Perceptrons(1,0,0)"
   ]
  },
  {
   "cell_type": "markdown",
   "metadata": {},
   "source": [
    "If we have money and the restaurant have discount today. Sadly, no one will go with me:\n",
    "- $x_1$ = 1\n",
    "- $x_2$ = 0\n",
    "- $x_3$ = 1"
   ]
  },
  {
   "cell_type": "code",
   "execution_count": 3,
   "metadata": {},
   "outputs": [
    {
     "name": "stdout",
     "output_type": "stream",
     "text": [
      "Oh yay, I can go to the new Chinese restaurant.\n"
     ]
    },
    {
     "data": {
      "text/plain": [
       "1"
      ]
     },
     "execution_count": 3,
     "metadata": {},
     "output_type": "execute_result"
    }
   ],
   "source": [
    "Perceptrons(1,0,1)"
   ]
  },
  {
   "cell_type": "markdown",
   "metadata": {},
   "source": [
    "## Simplify The Algebraic Equation\n",
    "The condition $\\sum _jw _jx_j \\leq threshold$ is cumbersome, and we can make two notational changes to simplify it:\n",
    "1. Write $\\sum _jw _jx_j$ as a **dot product** $w\\cdot x$.<br>\n",
    "$w\\cdot x\\equiv\\sum _jw _jx_j$<br>\n",
    "$w\\cdot x$ are vectors whose components are the weights and inputs.\n",
    "2. Move the threshold to the other side of the inequality, and to replace it by what's known as the perceptron's bias.<br>\n",
    "$b\\equiv-threshold$"
   ]
  },
  {
   "cell_type": "markdown",
   "metadata": {},
   "source": [
    "$ output =\\begin{cases} 0\\ \\ if\\ \\ w\\cdot x+b\\leq0\\\\ 1\\ \\ if\\ \\ w\\cdot x+b>0\\end{cases} $<br>\n",
    "Bias is a measure of how easy it is to get the perceptrons to output a \"1\"."
   ]
  },
  {
   "cell_type": "markdown",
   "metadata": {},
   "source": [
    "## Winter Is Coming\n",
    "In 1969, the **XOR Problem** brought the developed neural network into **winter** (AI Winter), lasting about 20 years. So now, let's study about the **XOR Problem**."
   ]
  },
  {
   "cell_type": "markdown",
   "metadata": {},
   "source": [
    "![winter is coming](../../Images/winter-is-coming.jpg)"
   ]
  },
  {
   "cell_type": "markdown",
   "metadata": {},
   "source": [
    "Before learning about the XOR Problem, let's take a look at other **logical operations**."
   ]
  },
  {
   "cell_type": "markdown",
   "metadata": {},
   "source": [
    "## Logical Operations\n",
    "### AND\n",
    "Both relations must be true for the complex expression to be true. \n",
    "<br>\n",
    "- True: 1\n",
    "- False: 0"
   ]
  },
  {
   "cell_type": "markdown",
   "metadata": {},
   "source": [
    "<div>\n",
    "    <img align=left src=\"../../Images/AND-table.png\"/>\n",
    "</div>"
   ]
  },
  {
   "cell_type": "markdown",
   "metadata": {},
   "source": [
    "We can implement this simple example in Python:"
   ]
  },
  {
   "cell_type": "code",
   "execution_count": 4,
   "metadata": {},
   "outputs": [],
   "source": [
    "import numpy as np\n",
    "def AND(x1, x2):\n",
    "    x = np.array([x1, x2])\n",
    "    w = np.array([0.5, 0.5])\n",
    "    b = -0.6\n",
    "    y = np.sum(w*x) + b\n",
    "    if y <= 0:\n",
    "        return 0\n",
    "    elif y > 0:\n",
    "        return 1"
   ]
  },
  {
   "cell_type": "code",
   "execution_count": 5,
   "metadata": {},
   "outputs": [
    {
     "data": {
      "text/plain": [
       "0"
      ]
     },
     "execution_count": 5,
     "metadata": {},
     "output_type": "execute_result"
    }
   ],
   "source": [
    "AND(0,0)"
   ]
  },
  {
   "cell_type": "code",
   "execution_count": 6,
   "metadata": {},
   "outputs": [
    {
     "data": {
      "text/plain": [
       "0"
      ]
     },
     "execution_count": 6,
     "metadata": {},
     "output_type": "execute_result"
    }
   ],
   "source": [
    "AND(1,0)"
   ]
  },
  {
   "cell_type": "code",
   "execution_count": 7,
   "metadata": {},
   "outputs": [
    {
     "data": {
      "text/plain": [
       "1"
      ]
     },
     "execution_count": 7,
     "metadata": {},
     "output_type": "execute_result"
    }
   ],
   "source": [
    "AND(1,1)"
   ]
  },
  {
   "cell_type": "markdown",
   "metadata": {},
   "source": [
    "### NAND\n",
    "NAND is an inverted AND. It has the following truth table:"
   ]
  },
  {
   "cell_type": "markdown",
   "metadata": {},
   "source": [
    "<div>\n",
    "    <img align=left src=\"../../Images/NAND-table.png\"/>\n",
    "</div>"
   ]
  },
  {
   "cell_type": "code",
   "execution_count": 8,
   "metadata": {},
   "outputs": [],
   "source": [
    "def NAND(x1, x2):\n",
    "    x = np.array([x1, x2])\n",
    "    w = np.array([-0.5, -0.5])\n",
    "    b = 0.6\n",
    "    y = np.sum(w*x) + b\n",
    "    if y <= 0:\n",
    "        return 0\n",
    "    elif y > 0:\n",
    "        return 1"
   ]
  },
  {
   "cell_type": "code",
   "execution_count": 9,
   "metadata": {},
   "outputs": [
    {
     "data": {
      "text/plain": [
       "1"
      ]
     },
     "execution_count": 9,
     "metadata": {},
     "output_type": "execute_result"
    }
   ],
   "source": [
    "NAND(0,0)"
   ]
  },
  {
   "cell_type": "code",
   "execution_count": 11,
   "metadata": {},
   "outputs": [
    {
     "data": {
      "text/plain": [
       "1"
      ]
     },
     "execution_count": 11,
     "metadata": {},
     "output_type": "execute_result"
    }
   ],
   "source": [
    "NAND(0,1)"
   ]
  },
  {
   "cell_type": "code",
   "execution_count": 12,
   "metadata": {},
   "outputs": [
    {
     "data": {
      "text/plain": [
       "0"
      ]
     },
     "execution_count": 12,
     "metadata": {},
     "output_type": "execute_result"
    }
   ],
   "source": [
    "NAND(1,1)"
   ]
  },
  {
   "cell_type": "markdown",
   "metadata": {},
   "source": [
    "### OR\n",
    "If either relation is true, the complex expression is true."
   ]
  },
  {
   "cell_type": "markdown",
   "metadata": {},
   "source": [
    "<div>\n",
    "    <img align=left src=\"../../Images/OR-table.png\"/>\n",
    "</div>"
   ]
  },
  {
   "cell_type": "code",
   "execution_count": 13,
   "metadata": {},
   "outputs": [],
   "source": [
    "def OR(x1, x2):\n",
    "    x = np.array([x1, x2])\n",
    "    w = np.array([0.5, 0.5])\n",
    "    b = -0.4\n",
    "    y = np.sum(w*x) + b\n",
    "    if y <= 0:\n",
    "        return 0\n",
    "    elif y > 0:\n",
    "        return 1"
   ]
  },
  {
   "cell_type": "code",
   "execution_count": 14,
   "metadata": {},
   "outputs": [
    {
     "data": {
      "text/plain": [
       "0"
      ]
     },
     "execution_count": 14,
     "metadata": {},
     "output_type": "execute_result"
    }
   ],
   "source": [
    "OR(0,0)"
   ]
  },
  {
   "cell_type": "code",
   "execution_count": 15,
   "metadata": {},
   "outputs": [
    {
     "data": {
      "text/plain": [
       "1"
      ]
     },
     "execution_count": 15,
     "metadata": {},
     "output_type": "execute_result"
    }
   ],
   "source": [
    "OR(0,1)"
   ]
  },
  {
   "cell_type": "code",
   "execution_count": 16,
   "metadata": {},
   "outputs": [
    {
     "data": {
      "text/plain": [
       "1"
      ]
     },
     "execution_count": 16,
     "metadata": {},
     "output_type": "execute_result"
    }
   ],
   "source": [
    "OR(1,1)"
   ]
  },
  {
   "cell_type": "markdown",
   "metadata": {},
   "source": [
    "### XOR"
   ]
  },
  {
   "cell_type": "markdown",
   "metadata": {},
   "source": [
    "<div>\n",
    "    <img align=left src=\"../../Images/XOR-table.png\"/>\n",
    "</div>"
   ]
  }
 ],
 "metadata": {
  "kernelspec": {
   "display_name": "Python 3",
   "language": "python",
   "name": "python3"
  },
  "language_info": {
   "codemirror_mode": {
    "name": "ipython",
    "version": 3
   },
   "file_extension": ".py",
   "mimetype": "text/x-python",
   "name": "python",
   "nbconvert_exporter": "python",
   "pygments_lexer": "ipython3",
   "version": "3.6.5"
  }
 },
 "nbformat": 4,
 "nbformat_minor": 2
}
