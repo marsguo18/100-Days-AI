{
 "cells": [
  {
   "cell_type": "markdown",
   "metadata": {},
   "source": [
    "# Bellman equation\n",
    "A **Bellman equation** is a recursion for expected rewards in **Markov decision processes (MDP)**.<br>\n",
    "As we know from the Reinforcement learning, **MDP** is trying to find the best **a** from its each recursion.<br>\n",
    "![pas](../Images/pas.png)\n",
    "A **Bellman equation** is a necessary condition for optimality (find the best **a**)."
   ]
  },
  {
   "cell_type": "markdown",
   "metadata": {},
   "source": [
    "# Definition\n",
    "**Bellman equation**: \n",
    "- The value of the **current state** is related to the value of the **next state** and the **current reward**."
   ]
  },
  {
   "cell_type": "markdown",
   "metadata": {},
   "source": [
    "1. $ \\upsilon_\\pi(s) = \\sum _{a \\in A} \\pi(a|s)(R_s^a + \\gamma\\sum_{s' \\in s} P_{ss'}^a\\upsilon_\\pi(s')) $\n",
    "<br>"
   ]
  },
  {
   "cell_type": "markdown",
   "metadata": {},
   "source": [
    "- $ \\upsilon_\\pi(s) $: The value of the **current state**\n",
    "- $ \\pi(a|s) $: Probability distribution of **actions**\n",
    "- $ R_s^a $: **current reward**\n",
    "- $ \\gamma $: discount factor\n",
    "- $ P_{ss'}^a $: Transfer matrix (probilities of every states)\n",
    "- $ \\upsilon_\\pi(s') $: The value of the **next state**"
   ]
  },
  {
   "cell_type": "markdown",
   "metadata": {},
   "source": [
    "2. $ P_{ss'}^a = P(s_{t+1} = s'|s_t = s, A_t = a) $\n",
    "<br>"
   ]
  },
  {
   "cell_type": "markdown",
   "metadata": {},
   "source": [
    "3. $ \\upsilon_\\pi(s) = E_\\pi[R_s^a + \\gamma\\upsilon_\\pi(s_{t+1})|s_t = s] $"
   ]
  }
 ],
 "metadata": {
  "kernelspec": {
   "display_name": "Python 3",
   "language": "python",
   "name": "python3"
  },
  "language_info": {
   "codemirror_mode": {
    "name": "ipython",
    "version": 3
   },
   "file_extension": ".py",
   "mimetype": "text/x-python",
   "name": "python",
   "nbconvert_exporter": "python",
   "pygments_lexer": "ipython3",
   "version": "3.6.5"
  }
 },
 "nbformat": 4,
 "nbformat_minor": 2
}
