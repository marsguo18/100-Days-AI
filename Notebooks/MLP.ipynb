{
 "cells": [
  {
   "cell_type": "markdown",
   "metadata": {},
   "source": [
    "# MLP\n",
    "Before explaining what is MLP, let's do some review. As we have learnt from the [Perceptrons](Perceptrons.ipynb), perceptrons was stopped because of the XOR problem which also lead to the \"AI Winter\". \n",
    "![MLP is coming](../Images/mlp-is-coming.jpg)\n",
    "MLP is able to slove the XOR problem by adding a layer.\n",
    "\n",
    "## XOR\n",
    "XOR gives a true (1 or HIGH) output when the number of true inputs is odd.\n",
    "<div>\n",
    "    <img align=left src=\"../Images/xor-table.png\"/>\n",
    "</div>"
   ]
  },
  {
   "cell_type": "markdown",
   "metadata": {},
   "source": [
    "## Solution\n",
    "We can achieve XOR by combining AND, NAND and OR. First of all, let's take a look of all of them.\n",
    "<div>\n",
    "    <img align=left src=\"../Images/mix-logical-operation-table.png\"/>\n",
    "</div>"
   ]
  },
  {
   "cell_type": "markdown",
   "metadata": {},
   "source": [
    "If you pay attention to the last three column( **NAND-y**, **OR-y** and **XOR-y** ), you can find out that **NAND-y** and **OR-y** can get **XOR-y** by operation **AND**.\n",
    "<div>\n",
    "    <img align=left src=\"../Images/mix-logical-operation-table1.png\"/>\n",
    "</div>"
   ]
  },
  {
   "cell_type": "markdown",
   "metadata": {},
   "source": [
    "- $s_1$ = NAND-y\n",
    "- $s_2$ = OR-y"
   ]
  },
  {
   "cell_type": "markdown",
   "metadata": {},
   "source": [
    "<div>\n",
    "    <img align=left src=\"../Images/xor-mlp-table.png\"/>\n",
    "</div>"
   ]
  },
  {
   "cell_type": "markdown",
   "metadata": {},
   "source": [
    "<div>\n",
    "    <img align=left src=\"../Images/xor-mlp.png\"/>\n",
    "</div>"
   ]
  },
  {
   "cell_type": "markdown",
   "metadata": {},
   "source": [
    "## What is MLP?\n",
    "As we can see above, the perceptron add a layer, **The First Layer**, compared with the original perceptron which only has **The Zero Layer** and **The Second Layer**. We call this new perceptron **Multi-Layer Perceptron (MLP)**."
   ]
  },
  {
   "cell_type": "code",
   "execution_count": null,
   "metadata": {},
   "outputs": [],
   "source": [
    "import numpy as np\n",
    "\n",
    "def AND(x1, x2):\n",
    "    x = np.array([x1, x2])\n",
    "    w = np.array([0.5, 0.5])\n",
    "    b = -0.6\n",
    "    tmp = np.sum(w*x) + b\n",
    "    if tmp <= 0:\n",
    "        return 0\n",
    "    elif tmp > 0:\n",
    "        return 1\n",
    "    \n",
    "def NAND(x1, x2):\n",
    "    x = np.array([x1, x2])\n",
    "    w = np.array([-0.5, -0.5])\n",
    "    b = 0.6\n",
    "    tmp = np.sum(w*x) + b\n",
    "    if tmp <= 0:\n",
    "        return 0\n",
    "    elif tmp > 0:\n",
    "        return 1\n",
    "    \n",
    "def XOR(x1, x2):\n",
    "    s1 = NAND(x1, x2)\n",
    "    s2 = OR(x1, x2)\n",
    "    y = AND(s1, s2)\n",
    "    return y"
   ]
  }
 ],
 "metadata": {
  "kernelspec": {
   "display_name": "Python 3",
   "language": "python",
   "name": "python3"
  },
  "language_info": {
   "codemirror_mode": {
    "name": "ipython",
    "version": 3
   },
   "file_extension": ".py",
   "mimetype": "text/x-python",
   "name": "python",
   "nbconvert_exporter": "python",
   "pygments_lexer": "ipython3",
   "version": "3.6.5"
  }
 },
 "nbformat": 4,
 "nbformat_minor": 2
}
